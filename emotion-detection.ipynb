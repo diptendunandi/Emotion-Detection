{
 "cells": [
  {
   "cell_type": "code",
   "execution_count": 1,
   "id": "e9ac5e30",
   "metadata": {
    "_cell_guid": "b1076dfc-b9ad-4769-8c92-a6c4dae69d19",
    "_uuid": "8f2839f25d086af736a60e9eeb907d3b93b6e0e5",
    "execution": {
     "iopub.execute_input": "2022-01-05T08:20:42.893368Z",
     "iopub.status.busy": "2022-01-05T08:20:42.892669Z",
     "iopub.status.idle": "2022-01-05T08:20:43.078768Z",
     "shell.execute_reply": "2022-01-05T08:20:43.078150Z",
     "shell.execute_reply.started": "2022-01-05T07:52:14.580770Z"
    },
    "papermill": {
     "duration": 0.216589,
     "end_time": "2022-01-05T08:20:43.078937",
     "exception": false,
     "start_time": "2022-01-05T08:20:42.862348",
     "status": "completed"
    },
    "tags": []
   },
   "outputs": [],
   "source": [
    "# This Python 3 environment comes with many helpful analytics libraries installed\n",
    "# It is defined by the kaggle/python Docker image: https://github.com/kaggle/docker-python\n",
    "# For example, here's several helpful packages to load\n",
    "\n",
    "import numpy as np # linear algebra\n",
    "import pandas as pd # data processing, CSV file I/O (e.g. pd.read_csv)\n",
    "import cv2"
   ]
  },
  {
   "cell_type": "code",
   "execution_count": 2,
   "id": "3b46c6ae",
   "metadata": {
    "execution": {
     "iopub.execute_input": "2022-01-05T08:20:43.119471Z",
     "iopub.status.busy": "2022-01-05T08:20:43.118969Z",
     "iopub.status.idle": "2022-01-05T08:20:47.918815Z",
     "shell.execute_reply": "2022-01-05T08:20:47.918172Z",
     "shell.execute_reply.started": "2022-01-05T07:52:14.793285Z"
    },
    "papermill": {
     "duration": 4.821107,
     "end_time": "2022-01-05T08:20:47.918952",
     "exception": false,
     "start_time": "2022-01-05T08:20:43.097845",
     "status": "completed"
    },
    "tags": []
   },
   "outputs": [
    {
     "data": {
      "text/html": [
       "<div>\n",
       "<style scoped>\n",
       "    .dataframe tbody tr th:only-of-type {\n",
       "        vertical-align: middle;\n",
       "    }\n",
       "\n",
       "    .dataframe tbody tr th {\n",
       "        vertical-align: top;\n",
       "    }\n",
       "\n",
       "    .dataframe thead th {\n",
       "        text-align: right;\n",
       "    }\n",
       "</style>\n",
       "<table border=\"1\" class=\"dataframe\">\n",
       "  <thead>\n",
       "    <tr style=\"text-align: right;\">\n",
       "      <th></th>\n",
       "      <th>emotion</th>\n",
       "      <th>pixels</th>\n",
       "      <th>Usage</th>\n",
       "    </tr>\n",
       "  </thead>\n",
       "  <tbody>\n",
       "    <tr>\n",
       "      <th>0</th>\n",
       "      <td>0</td>\n",
       "      <td>70 80 82 72 58 58 60 63 54 58 60 48 89 115 121...</td>\n",
       "      <td>Training</td>\n",
       "    </tr>\n",
       "    <tr>\n",
       "      <th>1</th>\n",
       "      <td>0</td>\n",
       "      <td>151 150 147 155 148 133 111 140 170 174 182 15...</td>\n",
       "      <td>Training</td>\n",
       "    </tr>\n",
       "    <tr>\n",
       "      <th>2</th>\n",
       "      <td>2</td>\n",
       "      <td>231 212 156 164 174 138 161 173 182 200 106 38...</td>\n",
       "      <td>Training</td>\n",
       "    </tr>\n",
       "    <tr>\n",
       "      <th>3</th>\n",
       "      <td>4</td>\n",
       "      <td>24 32 36 30 32 23 19 20 30 41 21 22 32 34 21 1...</td>\n",
       "      <td>Training</td>\n",
       "    </tr>\n",
       "    <tr>\n",
       "      <th>4</th>\n",
       "      <td>6</td>\n",
       "      <td>4 0 0 0 0 0 0 0 0 0 0 0 3 15 23 28 48 50 58 84...</td>\n",
       "      <td>Training</td>\n",
       "    </tr>\n",
       "  </tbody>\n",
       "</table>\n",
       "</div>"
      ],
      "text/plain": [
       "   emotion                                             pixels     Usage\n",
       "0        0  70 80 82 72 58 58 60 63 54 58 60 48 89 115 121...  Training\n",
       "1        0  151 150 147 155 148 133 111 140 170 174 182 15...  Training\n",
       "2        2  231 212 156 164 174 138 161 173 182 200 106 38...  Training\n",
       "3        4  24 32 36 30 32 23 19 20 30 41 21 22 32 34 21 1...  Training\n",
       "4        6  4 0 0 0 0 0 0 0 0 0 0 0 3 15 23 28 48 50 58 84...  Training"
      ]
     },
     "execution_count": 2,
     "metadata": {},
     "output_type": "execute_result"
    }
   ],
   "source": [
    "df = pd.read_csv('../input/fer2013/fer2013.csv')\n",
    "df.head()"
   ]
  },
  {
   "cell_type": "code",
   "execution_count": 3,
   "id": "421ab71e",
   "metadata": {
    "execution": {
     "iopub.execute_input": "2022-01-05T08:20:47.964893Z",
     "iopub.status.busy": "2022-01-05T08:20:47.964172Z",
     "iopub.status.idle": "2022-01-05T08:20:47.966815Z",
     "shell.execute_reply": "2022-01-05T08:20:47.967251Z",
     "shell.execute_reply.started": "2022-01-05T07:52:20.130432Z"
    },
    "papermill": {
     "duration": 0.029252,
     "end_time": "2022-01-05T08:20:47.967379",
     "exception": false,
     "start_time": "2022-01-05T08:20:47.938127",
     "status": "completed"
    },
    "tags": []
   },
   "outputs": [
    {
     "data": {
      "text/plain": [
       "2304"
      ]
     },
     "execution_count": 3,
     "metadata": {},
     "output_type": "execute_result"
    }
   ],
   "source": [
    "len(df.iloc[0]['pixels'].split())"
   ]
  },
  {
   "cell_type": "code",
   "execution_count": 4,
   "id": "1dcf58ec",
   "metadata": {
    "execution": {
     "iopub.execute_input": "2022-01-05T08:20:48.011660Z",
     "iopub.status.busy": "2022-01-05T08:20:48.011009Z",
     "iopub.status.idle": "2022-01-05T08:20:48.013433Z",
     "shell.execute_reply": "2022-01-05T08:20:48.013937Z",
     "shell.execute_reply.started": "2022-01-05T07:52:20.143781Z"
    },
    "papermill": {
     "duration": 0.028297,
     "end_time": "2022-01-05T08:20:48.014055",
     "exception": false,
     "start_time": "2022-01-05T08:20:47.985758",
     "status": "completed"
    },
    "tags": []
   },
   "outputs": [
    {
     "data": {
      "text/plain": [
       "(48, 48)"
      ]
     },
     "execution_count": 4,
     "metadata": {},
     "output_type": "execute_result"
    }
   ],
   "source": [
    "label_map = ['Anger', 'Neutral', 'Fear', 'Happy', 'Sad', 'Surprise']\n",
    "import matplotlib.pyplot as plt\n",
    "img = df.iloc[0]['pixels'].split()\n",
    "img = [int(i) for i in img]\n",
    "img = np.array(img)\n",
    "img = img.reshape(48,48)\n",
    "img.shape"
   ]
  },
  {
   "cell_type": "code",
   "execution_count": 5,
   "id": "a67c1b9f",
   "metadata": {
    "execution": {
     "iopub.execute_input": "2022-01-05T08:20:48.058528Z",
     "iopub.status.busy": "2022-01-05T08:20:48.057630Z",
     "iopub.status.idle": "2022-01-05T08:20:48.248690Z",
     "shell.execute_reply": "2022-01-05T08:20:48.249107Z",
     "shell.execute_reply.started": "2022-01-05T07:52:20.157625Z"
    },
    "papermill": {
     "duration": 0.216529,
     "end_time": "2022-01-05T08:20:48.249253",
     "exception": false,
     "start_time": "2022-01-05T08:20:48.032724",
     "status": "completed"
    },
    "tags": []
   },
   "outputs": [
    {
     "data": {
      "text/plain": [
       "Text(0.5, 0, '0')"
      ]
     },
     "execution_count": 5,
     "metadata": {},
     "output_type": "execute_result"
    },
    {
     "data": {
      "image/png": "[encoded data removed]",
      "text/plain": [
       "<Figure size 432x288 with 1 Axes>"
      ]
     },
     "metadata": {
      "needs_background": "light"
     },
     "output_type": "display_data"
    }
   ],
   "source": [
    "plt.imshow(img, cmap='gray')\n",
    "plt.xlabel(df.iloc[0]['emotion'])"
   ]
  },
  {
   "cell_type": "code",
   "execution_count": 6,
   "id": "f627b7dd",
   "metadata": {
    "execution": {
     "iopub.execute_input": "2022-01-05T08:20:48.292567Z",
     "iopub.status.busy": "2022-01-05T08:20:48.292037Z",
     "iopub.status.idle": "2022-01-05T08:20:48.295356Z",
     "shell.execute_reply": "2022-01-05T08:20:48.294921Z",
     "shell.execute_reply.started": "2022-01-05T07:52:20.446002Z"
    },
    "papermill": {
     "duration": 0.02645,
     "end_time": "2022-01-05T08:20:48.295476",
     "exception": false,
     "start_time": "2022-01-05T08:20:48.269026",
     "status": "completed"
    },
    "tags": []
   },
   "outputs": [],
   "source": [
    "X = []\n",
    "y = []"
   ]
  },
  {
   "cell_type": "code",
   "execution_count": 7,
   "id": "c0cb3458",
   "metadata": {
    "execution": {
     "iopub.execute_input": "2022-01-05T08:20:48.430647Z",
     "iopub.status.busy": "2022-01-05T08:20:48.428989Z",
     "iopub.status.idle": "2022-01-05T08:20:48.431217Z",
     "shell.execute_reply": "2022-01-05T08:20:48.431642Z",
     "shell.execute_reply.started": "2022-01-05T07:52:20.451823Z"
    },
    "papermill": {
     "duration": 0.116789,
     "end_time": "2022-01-05T08:20:48.431789",
     "exception": false,
     "start_time": "2022-01-05T08:20:48.315000",
     "status": "completed"
    },
    "tags": []
   },
   "outputs": [],
   "source": [
    "def getData(path):\n",
    "    anger = 0\n",
    "    fear = 0\n",
    "    sad = 0\n",
    "    happy = 0\n",
    "    surprise = 0\n",
    "    neutral = 0\n",
    "    df = pd.read_csv(path)\n",
    "    \n",
    "    X = []\n",
    "    y = []    \n",
    "    \n",
    "    for i in range(len(df)):\n",
    "        if df.iloc[i]['emotion'] != 1:\n",
    "            if df.iloc[i]['emotion'] == 0:\n",
    "                if anger <= 4000:            \n",
    "                    y.append(df.iloc[i]['emotion'])\n",
    "                    im = df.iloc[i]['pixels']\n",
    "                    im = [int(x) for x in im.split()]\n",
    "                    X.append(im)\n",
    "                    anger += 1\n",
    "                else:\n",
    "                    pass\n",
    "                \n",
    "            if df.iloc[i]['emotion'] == 2:\n",
    "                if fear <= 4000:            \n",
    "                    y.append(df.iloc[i]['emotion'])\n",
    "                    im = df.iloc[i]['pixels']\n",
    "                    im = [int(x) for x in im.split()]\n",
    "                    X.append(im)\n",
    "                    fear += 1\n",
    "                else:\n",
    "                    pass\n",
    "                \n",
    "            if df.iloc[i]['emotion'] == 3:\n",
    "                if happy <= 4000:            \n",
    "                    y.append(df.iloc[i]['emotion'])\n",
    "                    im = df.iloc[i]['pixels']\n",
    "                    im = [int(x) for x in im.split()]\n",
    "                    X.append(im)\n",
    "                    happy += 1\n",
    "                else:\n",
    "                    pass\n",
    "                \n",
    "            if df.iloc[i]['emotion'] == 4:\n",
    "                if sad <= 4000:            \n",
    "                    y.append(df.iloc[i]['emotion'])\n",
    "                    im = df.iloc[i]['pixels']\n",
    "                    im = [int(x) for x in im.split()]\n",
    "                    X.append(im)\n",
    "                    sad += 1\n",
    "                else:\n",
    "                    pass\n",
    "                \n",
    "            if df.iloc[i]['emotion'] == 5:\n",
    "                if surprise <= 4000:            \n",
    "                    y.append(df.iloc[i]['emotion'])\n",
    "                    im = df.iloc[i]['pixels']\n",
    "                    im = [int(x) for x in im.split()]\n",
    "                    X.append(im)\n",
    "                    surprise += 1\n",
    "                else:\n",
    "                    pass\n",
    "                \n",
    "            if df.iloc[i]['emotion'] == 6:\n",
    "                if neutral <= 4000:            \n",
    "                    y.append(df.iloc[i]['emotion'])\n",
    "                    im = df.iloc[i]['pixels']\n",
    "                    im = [int(x) for x in im.split()]\n",
    "                    X.append(im)\n",
    "                    neutral += 1\n",
    "                else:\n",
    "                    pass\n",
    "\n",
    "            \n",
    "            \n",
    "    return X, y  "
   ]
  },
  {
   "cell_type": "code",
   "execution_count": 8,
   "id": "32eeac5a",
   "metadata": {
    "execution": {
     "iopub.execute_input": "2022-01-05T08:20:48.476093Z",
     "iopub.status.busy": "2022-01-05T08:20:48.475274Z",
     "iopub.status.idle": "2022-01-05T08:21:33.042384Z",
     "shell.execute_reply": "2022-01-05T08:21:33.042843Z",
     "shell.execute_reply.started": "2022-01-05T07:52:20.470406Z"
    },
    "papermill": {
     "duration": 44.591277,
     "end_time": "2022-01-05T08:21:33.043016",
     "exception": false,
     "start_time": "2022-01-05T08:20:48.451739",
     "status": "completed"
    },
    "tags": []
   },
   "outputs": [],
   "source": [
    "X, y = getData('../input/fer2013/fer2013.csv')"
   ]
  },
  {
   "cell_type": "code",
   "execution_count": 9,
   "id": "dcaa945b",
   "metadata": {
    "execution": {
     "iopub.execute_input": "2022-01-05T08:21:33.091373Z",
     "iopub.status.busy": "2022-01-05T08:21:33.090604Z",
     "iopub.status.idle": "2022-01-05T08:21:33.096077Z",
     "shell.execute_reply": "2022-01-05T08:21:33.095641Z",
     "shell.execute_reply.started": "2022-01-05T07:53:05.746016Z"
    },
    "papermill": {
     "duration": 0.032779,
     "end_time": "2022-01-05T08:21:33.096182",
     "exception": false,
     "start_time": "2022-01-05T08:21:33.063403",
     "status": "completed"
    },
    "tags": []
   },
   "outputs": [
    {
     "data": {
      "text/plain": [
       "(array([0, 2, 3, 4, 5, 6]), array([4001, 4001, 4001, 4001, 4001, 4001]))"
      ]
     },
     "execution_count": 9,
     "metadata": {},
     "output_type": "execute_result"
    }
   ],
   "source": [
    "np.unique(y, return_counts=True)"
   ]
  },
  {
   "cell_type": "code",
   "execution_count": 10,
   "id": "3aa9e219",
   "metadata": {
    "execution": {
     "iopub.execute_input": "2022-01-05T08:21:33.138933Z",
     "iopub.status.busy": "2022-01-05T08:21:33.138141Z",
     "iopub.status.idle": "2022-01-05T08:21:43.449038Z",
     "shell.execute_reply": "2022-01-05T08:21:43.448600Z",
     "shell.execute_reply.started": "2022-01-05T07:53:05.760211Z"
    },
    "papermill": {
     "duration": 10.332952,
     "end_time": "2022-01-05T08:21:43.449160",
     "exception": false,
     "start_time": "2022-01-05T08:21:33.116208",
     "status": "completed"
    },
    "tags": []
   },
   "outputs": [
    {
     "data": {
      "text/plain": [
       "((24006, 2304), (24006,))"
      ]
     },
     "execution_count": 10,
     "metadata": {},
     "output_type": "execute_result"
    }
   ],
   "source": [
    "X = np.array(X)/255.0\n",
    "y = np.array(y)\n",
    "X.shape, y.shape"
   ]
  },
  {
   "cell_type": "code",
   "execution_count": 11,
   "id": "491b1334",
   "metadata": {
    "execution": {
     "iopub.execute_input": "2022-01-05T08:21:43.509987Z",
     "iopub.status.busy": "2022-01-05T08:21:43.509206Z",
     "iopub.status.idle": "2022-01-05T08:21:43.511067Z",
     "shell.execute_reply": "2022-01-05T08:21:43.511485Z",
     "shell.execute_reply.started": "2022-01-05T07:53:15.764758Z"
    },
    "papermill": {
     "duration": 0.04202,
     "end_time": "2022-01-05T08:21:43.511606",
     "exception": false,
     "start_time": "2022-01-05T08:21:43.469586",
     "status": "completed"
    },
    "tags": []
   },
   "outputs": [],
   "source": [
    "y_o = []\n",
    "for i in y:\n",
    "    if i != 6:\n",
    "        y_o.append(i)\n",
    "        \n",
    "    else:\n",
    "        y_o.append(1)"
   ]
  },
  {
   "cell_type": "code",
   "execution_count": 12,
   "id": "9adb3490",
   "metadata": {
    "execution": {
     "iopub.execute_input": "2022-01-05T08:21:43.559195Z",
     "iopub.status.busy": "2022-01-05T08:21:43.558443Z",
     "iopub.status.idle": "2022-01-05T08:21:43.563488Z",
     "shell.execute_reply": "2022-01-05T08:21:43.563075Z",
     "shell.execute_reply.started": "2022-01-05T07:53:15.785239Z"
    },
    "papermill": {
     "duration": 0.031897,
     "end_time": "2022-01-05T08:21:43.563598",
     "exception": false,
     "start_time": "2022-01-05T08:21:43.531701",
     "status": "completed"
    },
    "tags": []
   },
   "outputs": [
    {
     "data": {
      "text/plain": [
       "(array([0, 1, 2, 3, 4, 5]), array([4001, 4001, 4001, 4001, 4001, 4001]))"
      ]
     },
     "execution_count": 12,
     "metadata": {},
     "output_type": "execute_result"
    }
   ],
   "source": [
    "np.unique(y_o, return_counts=True)"
   ]
  },
  {
   "cell_type": "code",
   "execution_count": 13,
   "id": "12aaa3f3",
   "metadata": {
    "execution": {
     "iopub.execute_input": "2022-01-05T08:21:43.624204Z",
     "iopub.status.busy": "2022-01-05T08:21:43.622858Z",
     "iopub.status.idle": "2022-01-05T08:21:44.381197Z",
     "shell.execute_reply": "2022-01-05T08:21:44.381627Z",
     "shell.execute_reply.started": "2022-01-05T07:53:15.804331Z"
    },
    "papermill": {
     "duration": 0.797679,
     "end_time": "2022-01-05T08:21:44.381789",
     "exception": false,
     "start_time": "2022-01-05T08:21:43.584110",
     "status": "completed"
    },
    "tags": []
   },
   "outputs": [
    {
     "data": {
      "image/png": "[encoded data removed]",
      "text/plain": [
       "<Figure size 432x288 with 1 Axes>"
      ]
     },
     "metadata": {
      "needs_background": "light"
     },
     "output_type": "display_data"
    },
    {
     "data": {
      "image/png": "[encoded data removed]",
      "text/plain": [
       "<Figure size 432x288 with 1 Axes>"
      ]
     },
     "metadata": {
      "needs_background": "light"
     },
     "output_type": "display_data"
    },
    {
     "data": {
      "image/png": "[encoded data removed]",
      "text/plain": [
       "<Figure size 432x288 with 1 Axes>"
      ]
     },
     "metadata": {
      "needs_background": "light"
     },
     "output_type": "display_data"
    },
    {
     "data": {
      "image/png": "[encoded data removed]",
      "text/plain": [
       "<Figure size 432x288 with 1 Axes>"
      ]
     },
     "metadata": {
      "needs_background": "light"
     },
     "output_type": "display_data"
    },
    {
     "data": {
      "image/png": "[encoded data removed]",
      "text/plain": [
       "<Figure size 432x288 with 1 Axes>"
      ]
     },
     "metadata": {
      "needs_background": "light"
     },
     "output_type": "display_data"
    }
   ],
   "source": [
    "for i in range(5):\n",
    "    r = np.random.randint((1), 24000, 1)[0]\n",
    "    plt.figure()\n",
    "    plt.imshow(X[r].reshape(48,48), cmap='gray')\n",
    "    plt.xlabel(label_map[y_o[r]])"
   ]
  },
  {
   "cell_type": "code",
   "execution_count": 14,
   "id": "86a49a8d",
   "metadata": {
    "execution": {
     "iopub.execute_input": "2022-01-05T08:21:44.435357Z",
     "iopub.status.busy": "2022-01-05T08:21:44.434751Z",
     "iopub.status.idle": "2022-01-05T08:21:44.437302Z",
     "shell.execute_reply": "2022-01-05T08:21:44.437718Z",
     "shell.execute_reply.started": "2022-01-05T07:53:16.526822Z"
    },
    "papermill": {
     "duration": 0.03183,
     "end_time": "2022-01-05T08:21:44.437849",
     "exception": false,
     "start_time": "2022-01-05T08:21:44.406019",
     "status": "completed"
    },
    "tags": []
   },
   "outputs": [
    {
     "data": {
      "text/plain": [
       "(24006, 48, 48, 1)"
      ]
     },
     "execution_count": 14,
     "metadata": {},
     "output_type": "execute_result"
    }
   ],
   "source": [
    "X = X.reshape(len(X), 48, 48, 1)\n",
    "X.shape"
   ]
  },
  {
   "cell_type": "code",
   "execution_count": 15,
   "id": "85d9b3b5",
   "metadata": {
    "execution": {
     "iopub.execute_input": "2022-01-05T08:21:44.489776Z",
     "iopub.status.busy": "2022-01-05T08:21:44.489216Z",
     "iopub.status.idle": "2022-01-05T08:21:49.073772Z",
     "shell.execute_reply": "2022-01-05T08:21:49.074359Z",
     "shell.execute_reply.started": "2022-01-05T07:53:16.534604Z"
    },
    "papermill": {
     "duration": 4.612863,
     "end_time": "2022-01-05T08:21:49.074557",
     "exception": false,
     "start_time": "2022-01-05T08:21:44.461694",
     "status": "completed"
    },
    "tags": []
   },
   "outputs": [
    {
     "data": {
      "text/plain": [
       "(24006, (24006, 6))"
      ]
     },
     "execution_count": 15,
     "metadata": {},
     "output_type": "execute_result"
    }
   ],
   "source": [
    "from tensorflow.keras.utils import to_categorical\n",
    "y_new = to_categorical(y_o, num_classes=6)\n",
    "len(y_o), y_new.shape"
   ]
  },
  {
   "cell_type": "code",
   "execution_count": 16,
   "id": "25a648e7",
   "metadata": {
    "execution": {
     "iopub.execute_input": "2022-01-05T08:21:49.130226Z",
     "iopub.status.busy": "2022-01-05T08:21:49.129029Z",
     "iopub.status.idle": "2022-01-05T08:21:49.132940Z",
     "shell.execute_reply": "2022-01-05T08:21:49.133297Z",
     "shell.execute_reply.started": "2022-01-05T07:53:21.561455Z"
    },
    "papermill": {
     "duration": 0.033154,
     "end_time": "2022-01-05T08:21:49.133426",
     "exception": false,
     "start_time": "2022-01-05T08:21:49.100272",
     "status": "completed"
    },
    "tags": []
   },
   "outputs": [
    {
     "data": {
      "text/plain": [
       "(0, array([1., 0., 0., 0., 0., 0.], dtype=float32))"
      ]
     },
     "execution_count": 16,
     "metadata": {},
     "output_type": "execute_result"
    }
   ],
   "source": [
    "y_o[150], y_new[150]"
   ]
  },
  {
   "cell_type": "code",
   "execution_count": 17,
   "id": "6181f088",
   "metadata": {
    "execution": {
     "iopub.execute_input": "2022-01-05T08:21:49.189753Z",
     "iopub.status.busy": "2022-01-05T08:21:49.188027Z",
     "iopub.status.idle": "2022-01-05T08:21:49.193106Z",
     "shell.execute_reply": "2022-01-05T08:21:49.192196Z",
     "shell.execute_reply.started": "2022-01-05T07:53:21.570021Z"
    },
    "papermill": {
     "duration": 0.034531,
     "end_time": "2022-01-05T08:21:49.193220",
     "exception": false,
     "start_time": "2022-01-05T08:21:49.158689",
     "status": "completed"
    },
    "tags": []
   },
   "outputs": [],
   "source": [
    "from keras.models import Sequential\n",
    "from keras.layers import Dense , Activation , Dropout ,Flatten\n",
    "from keras.layers.convolutional import Conv2D\n",
    "from keras.layers.convolutional import MaxPooling2D\n",
    "from keras.metrics import categorical_accuracy\n",
    "from keras.models import model_from_json\n",
    "from keras.callbacks import ModelCheckpoint\n",
    "from keras.optimizers import *\n",
    "from tensorflow.keras.layers import BatchNormalization"
   ]
  },
  {
   "cell_type": "code",
   "execution_count": 18,
   "id": "afaa6ba2",
   "metadata": {
    "execution": {
     "iopub.execute_input": "2022-01-05T08:21:49.251817Z",
     "iopub.status.busy": "2022-01-05T08:21:49.251140Z",
     "iopub.status.idle": "2022-01-05T08:21:51.526855Z",
     "shell.execute_reply": "2022-01-05T08:21:51.526208Z",
     "shell.execute_reply.started": "2022-01-05T07:53:21.579599Z"
    },
    "papermill": {
     "duration": 2.308518,
     "end_time": "2022-01-05T08:21:51.527021",
     "exception": false,
     "start_time": "2022-01-05T08:21:49.218503",
     "status": "completed"
    },
    "tags": []
   },
   "outputs": [
    {
     "name": "stderr",
     "output_type": "stream",
     "text": [
      "2022-01-05 08:21:49.321499: I tensorflow/stream_executor/cuda/cuda_gpu_executor.cc:937] successful NUMA node read from SysFS had negative value (-1), but there must be at least one NUMA node, so returning NUMA node zero\n",
      "2022-01-05 08:21:49.417470: I tensorflow/stream_executor/cuda/cuda_gpu_executor.cc:937] successful NUMA node read from SysFS had negative value (-1), but there must be at least one NUMA node, so returning NUMA node zero\n",
      "2022-01-05 08:21:49.418166: I tensorflow/stream_executor/cuda/cuda_gpu_executor.cc:937] successful NUMA node read from SysFS had negative value (-1), but there must be at least one NUMA node, so returning NUMA node zero\n",
      "2022-01-05 08:21:49.419827: I tensorflow/core/platform/cpu_feature_guard.cc:142] This TensorFlow binary is optimized with oneAPI Deep Neural Network Library (oneDNN) to use the following CPU instructions in performance-critical operations:  AVX2 AVX512F FMA\n",
      "To enable them in other operations, rebuild TensorFlow with the appropriate compiler flags.\n",
      "2022-01-05 08:21:49.420625: I tensorflow/stream_executor/cuda/cuda_gpu_executor.cc:937] successful NUMA node read from SysFS had negative value (-1), but there must be at least one NUMA node, so returning NUMA node zero\n",
      "2022-01-05 08:21:49.421503: I tensorflow/stream_executor/cuda/cuda_gpu_executor.cc:937] successful NUMA node read from SysFS had negative value (-1), but there must be at least one NUMA node, so returning NUMA node zero\n",
      "2022-01-05 08:21:49.422329: I tensorflow/stream_executor/cuda/cuda_gpu_executor.cc:937] successful NUMA node read from SysFS had negative value (-1), but there must be at least one NUMA node, so returning NUMA node zero\n",
      "2022-01-05 08:21:51.090211: I tensorflow/stream_executor/cuda/cuda_gpu_executor.cc:937] successful NUMA node read from SysFS had negative value (-1), but there must be at least one NUMA node, so returning NUMA node zero\n",
      "2022-01-05 08:21:51.091025: I tensorflow/stream_executor/cuda/cuda_gpu_executor.cc:937] successful NUMA node read from SysFS had negative value (-1), but there must be at least one NUMA node, so returning NUMA node zero\n",
      "2022-01-05 08:21:51.091669: I tensorflow/stream_executor/cuda/cuda_gpu_executor.cc:937] successful NUMA node read from SysFS had negative value (-1), but there must be at least one NUMA node, so returning NUMA node zero\n",
      "2022-01-05 08:21:51.092254: I tensorflow/core/common_runtime/gpu/gpu_device.cc:1510] Created device /job:localhost/replica:0/task:0/device:GPU:0 with 15403 MB memory:  -> device: 0, name: Tesla P100-PCIE-16GB, pci bus id: 0000:00:04.0, compute capability: 6.0\n"
     ]
    }
   ],
   "source": [
    "model = Sequential()\n",
    "\n",
    "\n",
    "input_shape = (48,48,1)\n",
    "\n",
    "\n",
    "model.add(Conv2D(64, (5, 5), input_shape=input_shape,activation='relu', padding='same'))\n",
    "model.add(Conv2D(64, (5, 5), padding='same'))\n",
    "model.add(BatchNormalization())\n",
    "model.add(Activation('relu'))\n",
    "model.add(MaxPooling2D(pool_size=(2, 2)))\n",
    "\n",
    "\n",
    "model.add(Conv2D(128, (5, 5),activation='relu',padding='same'))\n",
    "model.add(Conv2D(128, (5, 5),padding='same'))\n",
    "model.add(BatchNormalization())\n",
    "model.add(Activation('relu'))\n",
    "model.add(MaxPooling2D(pool_size=(2, 2)))\n",
    "\n",
    "model.add(Conv2D(256, (3, 3),activation='relu',padding='same'))\n",
    "model.add(Conv2D(256, (3, 3),activation='relu',padding='same'))\n",
    "model.add(BatchNormalization())\n",
    "model.add(MaxPooling2D(pool_size=(2, 2)))\n",
    "\n",
    "## (15, 15) --->  30\n",
    "model.add(Flatten())\n",
    "model.add(Dense(6, activation='softmax'))\n",
    "\n",
    "model.compile(loss='categorical_crossentropy', metrics=['accuracy'],optimizer='adam')"
   ]
  },
  {
   "cell_type": "code",
   "execution_count": 19,
   "id": "5397a71c",
   "metadata": {
    "execution": {
     "iopub.execute_input": "2022-01-05T08:21:51.582753Z",
     "iopub.status.busy": "2022-01-05T08:21:51.582011Z",
     "iopub.status.idle": "2022-01-05T08:24:28.004784Z",
     "shell.execute_reply": "2022-01-05T08:24:28.004233Z",
     "shell.execute_reply.started": "2022-01-05T07:53:24.110181Z"
    },
    "papermill": {
     "duration": 156.45185,
     "end_time": "2022-01-05T08:24:28.004959",
     "exception": false,
     "start_time": "2022-01-05T08:21:51.553109",
     "status": "completed"
    },
    "tags": []
   },
   "outputs": [
    {
     "name": "stderr",
     "output_type": "stream",
     "text": [
      "2022-01-05 08:21:52.156192: I tensorflow/compiler/mlir/mlir_graph_optimization_pass.cc:185] None of the MLIR Optimization Passes are enabled (registered 2)\n"
     ]
    },
    {
     "name": "stdout",
     "output_type": "stream",
     "text": [
      "Epoch 1/22\n"
     ]
    },
    {
     "name": "stderr",
     "output_type": "stream",
     "text": [
      "2022-01-05 08:21:53.575622: I tensorflow/stream_executor/cuda/cuda_dnn.cc:369] Loaded cuDNN version 8005\n"
     ]
    },
    {
     "name": "stdout",
     "output_type": "stream",
     "text": [
      "301/301 [==============================] - 14s 24ms/step - loss: 2.1152 - accuracy: 0.2562 - val_loss: 3.2218 - val_accuracy: 0.1093\n",
      "Epoch 2/22\n",
      "301/301 [==============================] - 7s 23ms/step - loss: 1.6821 - accuracy: 0.3442 - val_loss: 1.8790 - val_accuracy: 0.2915\n",
      "Epoch 3/22\n",
      "301/301 [==============================] - 7s 22ms/step - loss: 1.5134 - accuracy: 0.4085 - val_loss: 2.2596 - val_accuracy: 0.2010\n",
      "Epoch 4/22\n",
      "301/301 [==============================] - 7s 22ms/step - loss: 1.3803 - accuracy: 0.4652 - val_loss: 1.4904 - val_accuracy: 0.4071\n",
      "Epoch 5/22\n",
      "301/301 [==============================] - 7s 22ms/step - loss: 1.3138 - accuracy: 0.4873 - val_loss: 1.2806 - val_accuracy: 0.4919\n",
      "Epoch 6/22\n",
      "301/301 [==============================] - 7s 22ms/step - loss: 1.2325 - accuracy: 0.5203 - val_loss: 1.6012 - val_accuracy: 0.4075\n",
      "Epoch 7/22\n",
      "301/301 [==============================] - 7s 23ms/step - loss: 1.1644 - accuracy: 0.5534 - val_loss: 1.7505 - val_accuracy: 0.3476\n",
      "Epoch 8/22\n",
      "301/301 [==============================] - 7s 22ms/step - loss: 1.1012 - accuracy: 0.5797 - val_loss: 1.3135 - val_accuracy: 0.5214\n",
      "Epoch 9/22\n",
      "301/301 [==============================] - 7s 22ms/step - loss: 1.0235 - accuracy: 0.6099 - val_loss: 1.2972 - val_accuracy: 0.5285\n",
      "Epoch 10/22\n",
      "301/301 [==============================] - 7s 22ms/step - loss: 0.9534 - accuracy: 0.6369 - val_loss: 1.1968 - val_accuracy: 0.5702\n",
      "Epoch 11/22\n",
      "301/301 [==============================] - 7s 22ms/step - loss: 0.8756 - accuracy: 0.6734 - val_loss: 1.5093 - val_accuracy: 0.5035\n",
      "Epoch 12/22\n",
      "301/301 [==============================] - 7s 23ms/step - loss: 0.7717 - accuracy: 0.7138 - val_loss: 1.2476 - val_accuracy: 0.5671\n",
      "Epoch 13/22\n",
      "301/301 [==============================] - 7s 22ms/step - loss: 0.6543 - accuracy: 0.7577 - val_loss: 1.7548 - val_accuracy: 0.4692\n",
      "Epoch 14/22\n",
      "301/301 [==============================] - 7s 22ms/step - loss: 0.5348 - accuracy: 0.8074 - val_loss: 1.8853 - val_accuracy: 0.5002\n",
      "Epoch 15/22\n",
      "301/301 [==============================] - 7s 22ms/step - loss: 0.4403 - accuracy: 0.8419 - val_loss: 2.1064 - val_accuracy: 0.4654\n",
      "Epoch 16/22\n",
      "301/301 [==============================] - 7s 23ms/step - loss: 0.3147 - accuracy: 0.8882 - val_loss: 3.3487 - val_accuracy: 0.4254\n",
      "Epoch 17/22\n",
      "301/301 [==============================] - 7s 22ms/step - loss: 0.2658 - accuracy: 0.9055 - val_loss: 3.4807 - val_accuracy: 0.4121\n",
      "Epoch 18/22\n",
      "301/301 [==============================] - 7s 22ms/step - loss: 0.1576 - accuracy: 0.9502 - val_loss: 1.9132 - val_accuracy: 0.5806\n",
      "Epoch 19/22\n",
      "301/301 [==============================] - 7s 22ms/step - loss: 0.1904 - accuracy: 0.9342 - val_loss: 2.3224 - val_accuracy: 0.5352\n",
      "Epoch 20/22\n",
      "301/301 [==============================] - 7s 22ms/step - loss: 0.1302 - accuracy: 0.9588 - val_loss: 2.0465 - val_accuracy: 0.5848\n",
      "Epoch 21/22\n",
      "301/301 [==============================] - 7s 23ms/step - loss: 0.1237 - accuracy: 0.9619 - val_loss: 2.2915 - val_accuracy: 0.5564\n",
      "Epoch 22/22\n",
      "301/301 [==============================] - 7s 23ms/step - loss: 0.1134 - accuracy: 0.9666 - val_loss: 2.6120 - val_accuracy: 0.5260\n"
     ]
    },
    {
     "data": {
      "text/plain": [
       "<keras.callbacks.History at 0x7f2139e2d550>"
      ]
     },
     "execution_count": 19,
     "metadata": {},
     "output_type": "execute_result"
    }
   ],
   "source": [
    "model.fit(X, y_new, epochs=22, batch_size=64, shuffle=True, validation_split=0.2)"
   ]
  },
  {
   "cell_type": "code",
   "execution_count": 20,
   "id": "e2a2c993",
   "metadata": {
    "execution": {
     "iopub.execute_input": "2022-01-05T08:24:29.237146Z",
     "iopub.status.busy": "2022-01-05T08:24:29.236289Z",
     "iopub.status.idle": "2022-01-05T08:24:37.599931Z",
     "shell.execute_reply": "2022-01-05T08:24:37.599221Z",
     "shell.execute_reply.started": "2022-01-05T08:00:24.330542Z"
    },
    "papermill": {
     "duration": 8.985309,
     "end_time": "2022-01-05T08:24:37.600097",
     "exception": false,
     "start_time": "2022-01-05T08:24:28.614788",
     "status": "completed"
    },
    "tags": []
   },
   "outputs": [
    {
     "name": "stdout",
     "output_type": "stream",
     "text": [
      "Requirement already satisfied: opencv-python in /opt/conda/lib/python3.7/site-packages (4.5.4.60)\r\n",
      "Requirement already satisfied: numpy>=1.14.5 in /opt/conda/lib/python3.7/site-packages (from opencv-python) (1.19.5)\r\n",
      "\u001b[33mWARNING: Running pip as the 'root' user can result in broken permissions and conflicting behaviour with the system package manager. It is recommended to use a virtual environment instead: https://pip.pypa.io/warnings/venv\u001b[0m\r\n",
      "Note: you may need to restart the kernel to use updated packages.\n"
     ]
    }
   ],
   "source": [
    "pip install opencv-python"
   ]
  },
  {
   "cell_type": "code",
   "execution_count": 21,
   "id": "b0345e91",
   "metadata": {
    "execution": {
     "iopub.execute_input": "2022-01-05T08:24:38.823527Z",
     "iopub.status.busy": "2022-01-05T08:24:38.822626Z",
     "iopub.status.idle": "2022-01-05T08:24:38.931818Z",
     "shell.execute_reply": "2022-01-05T08:24:38.931268Z",
     "shell.execute_reply.started": "2022-01-05T08:06:35.565770Z"
    },
    "papermill": {
     "duration": 0.724359,
     "end_time": "2022-01-05T08:24:38.931957",
     "exception": false,
     "start_time": "2022-01-05T08:24:38.207598",
     "status": "completed"
    },
    "tags": []
   },
   "outputs": [],
   "source": [
    "model.save('model.h5')\n",
    "import cv2\n",
    "path='../input/test-happy-image/my_image.jpg'\n",
    "test_img = cv2.imread(path)\n"
   ]
  },
  {
   "cell_type": "code",
   "execution_count": 22,
   "id": "bcd8d200",
   "metadata": {
    "execution": {
     "iopub.execute_input": "2022-01-05T08:24:40.146696Z",
     "iopub.status.busy": "2022-01-05T08:24:40.145266Z",
     "iopub.status.idle": "2022-01-05T08:24:40.148919Z",
     "shell.execute_reply": "2022-01-05T08:24:40.148436Z",
     "shell.execute_reply.started": "2022-01-05T08:06:54.966106Z"
    },
    "papermill": {
     "duration": 0.614673,
     "end_time": "2022-01-05T08:24:40.149031",
     "exception": false,
     "start_time": "2022-01-05T08:24:39.534358",
     "status": "completed"
    },
    "tags": []
   },
   "outputs": [
    {
     "data": {
      "text/plain": [
       "(184, 274, 3)"
      ]
     },
     "execution_count": 22,
     "metadata": {},
     "output_type": "execute_result"
    }
   ],
   "source": [
    "test_img.shape"
   ]
  },
  {
   "cell_type": "code",
   "execution_count": 23,
   "id": "d01a7152",
   "metadata": {
    "execution": {
     "iopub.execute_input": "2022-01-05T08:24:41.369124Z",
     "iopub.status.busy": "2022-01-05T08:24:41.368051Z",
     "iopub.status.idle": "2022-01-05T08:24:41.369712Z",
     "shell.execute_reply": "2022-01-05T08:24:41.370126Z",
     "shell.execute_reply.started": "2022-01-05T08:18:53.884364Z"
    },
    "papermill": {
     "duration": 0.608108,
     "end_time": "2022-01-05T08:24:41.370258",
     "exception": false,
     "start_time": "2022-01-05T08:24:40.762150",
     "status": "completed"
    },
    "tags": []
   },
   "outputs": [],
   "source": [
    "\n",
    "test_img = np.reshape(test_img, -1)"
   ]
  },
  {
   "cell_type": "code",
   "execution_count": 24,
   "id": "7309815a",
   "metadata": {
    "execution": {
     "iopub.execute_input": "2022-01-05T08:24:42.642121Z",
     "iopub.status.busy": "2022-01-05T08:24:42.641575Z",
     "iopub.status.idle": "2022-01-05T08:24:42.650928Z",
     "shell.execute_reply": "2022-01-05T08:24:42.651338Z",
     "shell.execute_reply.started": "2022-01-05T08:19:04.041123Z"
    },
    "papermill": {
     "duration": 0.635325,
     "end_time": "2022-01-05T08:24:42.651604",
     "exception": false,
     "start_time": "2022-01-05T08:24:42.016279",
     "status": "completed"
    },
    "tags": []
   },
   "outputs": [
    {
     "data": {
      "text/plain": [
       "(48, 48)"
      ]
     },
     "execution_count": 24,
     "metadata": {},
     "output_type": "execute_result"
    }
   ],
   "source": [
    "test_img = cv2.resize(test_img, (48,48))\n",
    "test_img.shape"
   ]
  },
  {
   "cell_type": "code",
   "execution_count": 25,
   "id": "eb62eea1",
   "metadata": {
    "execution": {
     "iopub.execute_input": "2022-01-05T08:24:43.876943Z",
     "iopub.status.busy": "2022-01-05T08:24:43.875947Z",
     "iopub.status.idle": "2022-01-05T08:24:43.877874Z",
     "shell.execute_reply": "2022-01-05T08:24:43.878268Z",
     "shell.execute_reply.started": "2022-01-05T08:19:35.781190Z"
    },
    "papermill": {
     "duration": 0.609731,
     "end_time": "2022-01-05T08:24:43.878407",
     "exception": false,
     "start_time": "2022-01-05T08:24:43.268676",
     "status": "completed"
    },
    "tags": []
   },
   "outputs": [],
   "source": [
    "test_img = test_img.reshape(1,48,48,1)"
   ]
  },
  {
   "cell_type": "code",
   "execution_count": 26,
   "id": "08d2c899",
   "metadata": {
    "execution": {
     "iopub.execute_input": "2022-01-05T08:24:45.113752Z",
     "iopub.status.busy": "2022-01-05T08:24:45.112914Z",
     "iopub.status.idle": "2022-01-05T08:24:45.315234Z",
     "shell.execute_reply": "2022-01-05T08:24:45.314800Z",
     "shell.execute_reply.started": "2022-01-05T08:19:45.409599Z"
    },
    "papermill": {
     "duration": 0.837252,
     "end_time": "2022-01-05T08:24:45.315370",
     "exception": false,
     "start_time": "2022-01-05T08:24:44.478118",
     "status": "completed"
    },
    "tags": []
   },
   "outputs": [
    {
     "data": {
      "text/plain": [
       "array([[0., 1., 0., 0., 0., 0.]], dtype=float32)"
      ]
     },
     "execution_count": 26,
     "metadata": {},
     "output_type": "execute_result"
    }
   ],
   "source": [
    "model.predict(test_img)"
   ]
  }
 ],
 "metadata": {
  "kernelspec": {
   "display_name": "Python 3",
   "language": "python",
   "name": "python3"
  },
  "language_info": {
   "codemirror_mode": {
    "name": "ipython",
    "version": 3
   },
   "file_extension": ".py",
   "mimetype": "text/x-python",
   "name": "python",
   "nbconvert_exporter": "python",
   "pygments_lexer": "ipython3",
   "version": "3.7.12"
  },
  "papermill": {
   "default_parameters": {},
   "duration": 254.605601,
   "end_time": "2022-01-05T08:24:49.358569",
   "environment_variables": {},
   "exception": null,
   "input_path": "__notebook__.ipynb",
   "output_path": "__notebook__.ipynb",
   "parameters": {},
   "start_time": "2022-01-05T08:20:34.752968",
   "version": "2.3.3"
  }
 },
 "nbformat": 4,
 "nbformat_minor": 5
}
